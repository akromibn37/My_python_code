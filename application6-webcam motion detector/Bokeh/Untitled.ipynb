{
 "cells": [
  {
   "cell_type": "code",
   "execution_count": 38,
   "metadata": {
    "collapsed": true
   },
   "outputs": [],
   "source": [
    "from bokeh.charts import Scatter,output_file,show\n",
    "import pandas\n",
    "\n",
    "df=pandas.DataFrame(columns=[\"X\",\"Y\"])\n",
    "df[\"X\"]=[1,2,3,4,5]\n",
    "df[\"Y\"]=[5,6,4,5,3]\n",
    "\n",
    "p=Scatter(df, x=\"X\", y=\"Y\",title=\"Temperature\", xlabel=\"Day of observation\",ylabel=\"Temperature\")\n",
    "\n",
    "output_file(\"Scatter_charts.html\")\n",
    "show(p)\n"
   ]
  },
  {
   "cell_type": "code",
   "execution_count": 5,
   "metadata": {},
   "outputs": [],
   "source": [
    "from bokeh.plotting import figure,output_file,show\n",
    "\n",
    "p=figure(plot_width=500,plot_height=400,title=\"Earthquake\")\n",
    "p.title.text_color = \"olive\"\n",
    "p.title.text_font = \"times\"\n",
    "p.title.text_font_style = \"italic\"\n",
    "p.title.text_alpha=0.5\n",
    "p.title.align='center'\n",
    "\n",
    "\n",
    "p.circle([1,2,3,4,5],[5,6,5,5,3], size=[20,35,12,5,7],color=\"red\",alpha=0.5)\n",
    "output_file(\"Scatter_plotting.html\")\n",
    "show(p)\n"
   ]
  },
  {
   "cell_type": "code",
   "execution_count": 13,
   "metadata": {
    "collapsed": true
   },
   "outputs": [],
   "source": [
    "from bokeh.plotting import figure,output_file,show\n",
    "import pandas\n",
    "\n",
    "df=pandas.read_csv(\"adbe.csv\",parse_dates=[\"Date\"])\n",
    "\n",
    "p=figure(width=500,height=250,x_axis_type=\"datetime\" ,responsive=True)\n",
    "\n",
    "p.line(df[\"Date\"],df[\"Close\"],color=\"Orange\",alpha=0.5)\n",
    "output_file(\"time_series_plot.html\")\n",
    "show(p)\n"
   ]
  },
  {
   "cell_type": "code",
   "execution_count": 14,
   "metadata": {},
   "outputs": [],
   "source": [
    "from bokeh.plotting import figure,output_file,show\n",
    "\n",
    "p=figure(plot_width=500,plot_height=400,title=\"Earthquake\")\n",
    "p.title.text_color = \"olive\"\n",
    "p.title.text_font = \"times\"\n",
    "p.title.text_font_style = \"italic\"\n",
    "p.title.text_alpha=0.5\n",
    "p.title.align='center'\n",
    "\n",
    "\n",
    "\n",
    "p.line([1,2,3,4,5],[5,6,5,5,3], line_width=2,color=\"red\",alpha=0.5)\n",
    "output_file(\"Scatter_plotting_line.html\")\n",
    "show(p)\n"
   ]
  },
  {
   "cell_type": "code",
   "execution_count": 18,
   "metadata": {},
   "outputs": [],
   "source": [
    "from bokeh.plotting import figure,output_file,show\n",
    "\n",
    "p=figure(plot_width=500,plot_height=400,title=\"Earthquake\")\n",
    "p.title.text_color = \"olive\"\n",
    "p.title.text_font = \"times\"\n",
    "p.title.text_font_style = \"italic\"\n",
    "p.title.text_alpha=0.5\n",
    "p.title.align='center'\n",
    "\n",
    "p.line([1,2,3,4,5],[5,6,5,5,3], line_width=2,color=\"red\",alpha=0.5)\n",
    "p.circle([i*2 for i in[1,2,3,4,5]],[5,6,5,5,3], size=10,color=\"red\",alpha=0.5)\n",
    "output_file(\"Scatter_plotting_line.html\")\n",
    "show(p)\n"
   ]
  },
  {
   "cell_type": "code",
   "execution_count": 26,
   "metadata": {},
   "outputs": [],
   "source": [
    "from bokeh.plotting import figure,output_file,show\n",
    "\n",
    "p=figure(plot_width=500,plot_height=400,title=\"Earthquake\")\n",
    "p.title.text_color = \"olive\"\n",
    "p.title.text_font = \"times\"\n",
    "p.title.text_font_style = \"italic\"\n",
    "p.title.text_alpha=0.5\n",
    "p.title.align='center'\n",
    "\n",
    "p.patches([[1,2,3,4,5], [3,5,7]], [[5,6,5,5,3], [2,3,5]],color=[\"firebrick\", \"navy\"], alpha=[0.8, 0.3], line_width=2)\n",
    "#p.circle([i*2 for i in[1,2,3,4,5]],[5,6,5,5,3], size=10,color=\"red\",alpha=0.5)\n",
    "output_file(\"Scatter_plotting_test.html\")\n",
    "show(p)\n"
   ]
  }
 ],
 "metadata": {
  "kernelspec": {
   "display_name": "Python 3",
   "language": "python",
   "name": "python3"
  },
  "language_info": {
   "codemirror_mode": {
    "name": "ipython",
    "version": 3
   },
   "file_extension": ".py",
   "mimetype": "text/x-python",
   "name": "python",
   "nbconvert_exporter": "python",
   "pygments_lexer": "ipython3",
   "version": "3.6.1"
  }
 },
 "nbformat": 4,
 "nbformat_minor": 2
}

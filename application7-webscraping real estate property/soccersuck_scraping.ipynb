{
 "cells": [
  {
   "cell_type": "code",
   "execution_count": 7,
   "metadata": {
    "collapsed": true
   },
   "outputs": [],
   "source": [
    "import requests\n",
    "from  bs4 import BeautifulSoup\n",
    "\n",
    "r=requests.get(\"http://www.soccersuck.com\")\n",
    "c=r.content\n",
    "\n",
    "soup=BeautifulSoup(c,\"html.parser\")\n",
    "print(soup.prettify)\n",
    "\n",
    "all=soup.find_all(\"div\",{\"class\":\"headline_big_video\"})\n"
   ]
  },
  {
   "cell_type": "code",
   "execution_count": 12,
   "metadata": {},
   "outputs": [
    {
     "name": "stdout",
     "output_type": "stream",
     "text": [
      "ลาโอ้ประกาศเซ็น'ไซเซโด้'เติมหอก 3 ปี                                 \n",
      "ตำนานงูระเบิดแผล่บ\"สปัลเล็ตติ\"คนนี้แหละใช่เลย                                 \n",
      "บิ๊กเสือเหลืองปัดให้ความเห็นข่าว\"มอร์\"ซบอกชาวม่วง                                 \n",
      "ซีดานเฟิร์ม\"โด้\"พร้อมระเบิดฟอร์มซีซั่นใหม่                                 \n"
     ]
    }
   ],
   "source": [
    "for i in all:\n",
    "    print(i.find_all(\"img\")[0].text)"
   ]
  }
 ],
 "metadata": {
  "kernelspec": {
   "display_name": "Python 3",
   "language": "python",
   "name": "python3"
  }
 },
 "nbformat": 4,
 "nbformat_minor": 2
}
